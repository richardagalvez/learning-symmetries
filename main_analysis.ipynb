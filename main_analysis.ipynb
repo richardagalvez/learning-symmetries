{
 "cells": [
  {
   "cell_type": "code",
   "execution_count": 1,
   "metadata": {},
   "outputs": [
    {
     "data": {
      "text/html": [
       "<style>.container { width:85% !important; }</style>"
      ],
      "text/plain": [
       "<IPython.core.display.HTML object>"
      ]
     },
     "metadata": {},
     "output_type": "display_data"
    }
   ],
   "source": [
    "from IPython.core.display import display, HTML\n",
    "display(HTML(\"<style>.container { width:85% !important; }</style>\"))"
   ]
  },
  {
   "cell_type": "code",
   "execution_count": 2,
   "metadata": {},
   "outputs": [],
   "source": [
    "import numpy as np\n",
    "import matplotlib.pyplot as plt\n",
    "from cycler import cycler\n",
    "\n",
    "import torch\n",
    "import torch.nn as nn\n",
    "from torch.autograd import Variable\n",
    "\n",
    "cmap=plt.cm.tab10\n",
    "c = cycler('color', cmap(np.linspace(0,1,10)))\n",
    "plt.rcParams[\"axes.prop_cycle\"] = c\n",
    "\n",
    "%config InlineBackend.figure_format = 'retina'\n",
    "%matplotlib inline"
   ]
  },
  {
   "cell_type": "markdown",
   "metadata": {},
   "source": [
    "## Teaching translations "
   ]
  },
  {
   "cell_type": "code",
   "execution_count": 98,
   "metadata": {},
   "outputs": [],
   "source": [
    "class Translations(nn.Module):\n",
    "    def __init__(self):\n",
    "        super(Translations, self).__init__()\n",
    "        self.layer1 = nn.Sequential(\n",
    "            nn.Linear(2,2),\n",
    "            nn.ReLU(),\n",
    "            nn.Linear(2,1))\n",
    "        \n",
    "    def forward(self, x):\n",
    "        out = self.layer1(x)\n",
    "        return out"
   ]
  },
  {
   "cell_type": "code",
   "execution_count": 99,
   "metadata": {},
   "outputs": [],
   "source": [
    "model = Translations()\n",
    "model.cuda()\n",
    "optimizer = torch.optim.Adam(model.parameters())\n",
    "criterion = nn.MSELoss()\n",
    "total_loss = []"
   ]
  },
  {
   "cell_type": "code",
   "execution_count": 101,
   "metadata": {},
   "outputs": [
    {
     "name": "stdout",
     "output_type": "stream",
     "text": [
      "[1] loss:0.001, diff:0.035 \n",
      "[2001] loss:0.000, diff:0.008 \n",
      "[4001] loss:0.000, diff:0.001 \n",
      "[6001] loss:0.000, diff:0.001 \n",
      "[8001] loss:0.000, diff:0.002 \n",
      "[10001] loss:0.000, diff:0.004 \n",
      "[12001] loss:0.000, diff:0.001 \n",
      "[14001] loss:0.000, diff:0.006 \n",
      "[16001] loss:0.000, diff:0.001 \n",
      "[18001] loss:0.000, diff:0.000 \n"
     ]
    }
   ],
   "source": [
    "num_samples = 20000\n",
    "for k in range(num_samples):\n",
    "    \n",
    "    # ===================data prep===================\n",
    "    data   = Variable(torch.randn(2))\n",
    "    target = data[0] + data[1]\n",
    "    data, target = data.cuda(), target.cuda()\n",
    "    \n",
    "    # ===================forward=====================\n",
    "    output = model(data)\n",
    "    loss   = criterion(output, target)\n",
    "\n",
    "    # ===================backward====================\n",
    "    optimizer.zero_grad()\n",
    "    loss.backward()\n",
    "    optimizer.step()\n",
    "    \n",
    "    # ===================log========================\n",
    "    total_loss.append(loss.data[0])\n",
    "    if (k+1)%(num_samples//10)==0:\n",
    "        print('[{}] loss:{:.3f}, diff:{:.3f} '\n",
    "              .format(k+1, total_loss[-1], np.abs(target.data[0]-output.data[0])))\n",
    "    "
   ]
  },
  {
   "cell_type": "code",
   "execution_count": 102,
   "metadata": {},
   "outputs": [
    {
     "name": "stdout",
     "output_type": "stream",
     "text": [
      "input:  0.742, -0.865\n",
      "target: -0.123\n",
      "output: -0.124\n"
     ]
    }
   ],
   "source": [
    "data   = Variable(torch.randn(2))\n",
    "target = data[0] + data[1]\n",
    "\n",
    "data, target = data.cuda(), target.cuda()\n",
    "\n",
    "output = model(data)\n",
    "\n",
    "print('input:  {:.3f}, {:.3f}'.format(data.data[0], data.data[1]))\n",
    "print('target: {:.3f}'.format(target.data[0]))\n",
    "print('output: {:.3f}'.format(output.data[0]))"
   ]
  },
  {
   "cell_type": "code",
   "execution_count": 114,
   "metadata": {},
   "outputs": [],
   "source": [
    "output = []\n",
    "a = 4\n",
    "\n",
    "for x in np.linspace(0,10):\n",
    "    data = np.array([x,4])\n",
    "    data = Variable(torch.from_numpy(data)).cuda()\n"
   ]
  },
  {
   "cell_type": "code",
   "execution_count": 115,
   "metadata": {},
   "outputs": [
    {
     "data": {
      "text/plain": [
       "Variable containing:\n",
       " 10\n",
       "  4\n",
       "[torch.cuda.DoubleTensor of size 2 (GPU 0)]"
      ]
     },
     "execution_count": 115,
     "metadata": {},
     "output_type": "execute_result"
    }
   ],
   "source": [
    "data"
   ]
  },
  {
   "cell_type": "code",
   "execution_count": null,
   "metadata": {},
   "outputs": [],
   "source": []
  }
 ],
 "metadata": {
  "kernelspec": {
   "display_name": "Python 3",
   "language": "python",
   "name": "python3"
  },
  "language_info": {
   "codemirror_mode": {
    "name": "ipython",
    "version": 3
   },
   "file_extension": ".py",
   "mimetype": "text/x-python",
   "name": "python",
   "nbconvert_exporter": "python",
   "pygments_lexer": "ipython3",
   "version": "3.6.3"
  }
 },
 "nbformat": 4,
 "nbformat_minor": 2
}
